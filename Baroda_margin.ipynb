{
 "cells": [
  {
   "cell_type": "code",
   "execution_count": 1,
   "metadata": {},
   "outputs": [],
   "source": [
    "import pandas as pd\n",
    "import numpy as np\n",
    "import matplotlib.pyplot as plt"
   ]
  },
  {
   "cell_type": "code",
   "execution_count": 2,
   "metadata": {},
   "outputs": [
    {
     "data": {
      "text/html": [
       "<div>\n",
       "<style>\n",
       "    .dataframe thead tr:only-child th {\n",
       "        text-align: right;\n",
       "    }\n",
       "\n",
       "    .dataframe thead th {\n",
       "        text-align: left;\n",
       "    }\n",
       "\n",
       "    .dataframe tbody tr th {\n",
       "        vertical-align: top;\n",
       "    }\n",
       "</style>\n",
       "<table border=\"1\" class=\"dataframe\">\n",
       "  <thead>\n",
       "    <tr style=\"text-align: right;\">\n",
       "      <th></th>\n",
       "      <th>year</th>\n",
       "      <th>margin</th>\n",
       "    </tr>\n",
       "  </thead>\n",
       "  <tbody>\n",
       "    <tr>\n",
       "      <th>0</th>\n",
       "      <td>2014</td>\n",
       "      <td>4.300495</td>\n",
       "    </tr>\n",
       "    <tr>\n",
       "      <th>1</th>\n",
       "      <td>2014</td>\n",
       "      <td>30.408808</td>\n",
       "    </tr>\n",
       "    <tr>\n",
       "      <th>2</th>\n",
       "      <td>2014</td>\n",
       "      <td>0.973274</td>\n",
       "    </tr>\n",
       "    <tr>\n",
       "      <th>3</th>\n",
       "      <td>2014</td>\n",
       "      <td>3.542951</td>\n",
       "    </tr>\n",
       "    <tr>\n",
       "      <th>4</th>\n",
       "      <td>2014</td>\n",
       "      <td>1.766497</td>\n",
       "    </tr>\n",
       "  </tbody>\n",
       "</table>\n",
       "</div>"
      ],
      "text/plain": [
       "   year     margin\n",
       "0  2014   4.300495\n",
       "1  2014  30.408808\n",
       "2  2014   0.973274\n",
       "3  2014   3.542951\n",
       "4  2014   1.766497"
      ]
     },
     "execution_count": 2,
     "metadata": {},
     "output_type": "execute_result"
    }
   ],
   "source": [
    "data=pd.read_csv('/home/vivek/Documents/Internship/AAP_Data_Analytics/Task 5/Baroda_margin - Sheet1.csv')\n",
    "data.head()"
   ]
  },
  {
   "cell_type": "code",
   "execution_count": null,
   "metadata": {},
   "outputs": [
    {
     "data": {
      "image/png": "[encoded data removed]",
      "text/plain": [
       "<Figure size 1440x720 with 1 Axes>"
      ]
     },
     "metadata": {},
     "output_type": "display_data"
    }
   ],
   "source": [
    "df1=data.loc[(data['year']==2014)]\n",
    "df2=df1['margin']\n",
    "plt.figure(figsize=(20,10))\n",
    "plt.grid(True, zorder=5)\n",
    "#plt.xlabel('',fontsize=20)\n",
    "plt.ylabel('Votes Percentage Margin',fontsize=20)\n",
    "plt.title('2014 (Baroda)',fontsize=20)\n",
    "plt.tick_params(labelsize=15)\n",
    "df2.plot(kind='bar')\n",
    "x = np.arange(6)\n",
    "plt.xticks(x, ('1','2','3','4','5','6'))\n",
    "plt.show()"
   ]
  },
  {
   "cell_type": "code",
   "execution_count": null,
   "metadata": {},
   "outputs": [],
   "source": [
    "df1=data.loc[(data['year']==2009)]\n",
    "df2=df1['margin']\n",
    "plt.figure(figsize=(20,10))\n",
    "plt.grid(True, zorder=5)\n",
    "#plt.xlabel('',fontsize=20)\n",
    "plt.ylabel('Votes Percentage Margin',fontsize=20)\n",
    "plt.title('2009 (Julana)',fontsize=20)\n",
    "plt.tick_params(labelsize=15)\n",
    "df2.plot(kind='bar')\n",
    "x = np.arange(6)\n",
    "plt.xticks(x, ('1','2','3','4','5','6'))\n",
    "plt.show()"
   ]
  },
  {
   "cell_type": "code",
   "execution_count": null,
   "metadata": {},
   "outputs": [],
   "source": [
    "df1=data.loc[(data['year']==2005)]\n",
    "df2=df1['margin']\n",
    "plt.figure(figsize=(20,10))\n",
    "plt.grid(True, zorder=5)\n",
    "#plt.xlabel('',fontsize=20)\n",
    "plt.ylabel('Votes Percentage Margin',fontsize=20)\n",
    "plt.title('2005 (Julana)',fontsize=20)\n",
    "plt.tick_params(labelsize=15)\n",
    "df2.plot(kind='bar')\n",
    "x = np.arange(6)\n",
    "plt.xticks(x, ('1','2','3','4','5','6'))\n",
    "plt.show()"
   ]
  },
  {
   "cell_type": "code",
   "execution_count": null,
   "metadata": {},
   "outputs": [],
   "source": [
    "df1=data.loc[(data['year']==2000)]\n",
    "df2=df1['margin']\n",
    "plt.figure(figsize=(20,10))\n",
    "plt.grid(True, zorder=5)\n",
    "#plt.xlabel('',fontsize=20)\n",
    "plt.ylabel('Votes Percentage Margin',fontsize=20)\n",
    "plt.title('2000 (Julana)',fontsize=20)\n",
    "plt.tick_params(labelsize=15)\n",
    "df2.plot(kind='bar')\n",
    "x = np.arange(6)\n",
    "plt.xticks(x, ('1','2','3','4','5','6'))\n",
    "plt.show()"
   ]
  },
  {
   "cell_type": "code",
   "execution_count": null,
   "metadata": {},
   "outputs": [],
   "source": [
    "df1=data.loc[(data['year']==1996)]\n",
    "df2=df1['margin']\n",
    "plt.figure(figsize=(20,10))\n",
    "plt.grid(True, zorder=5)\n",
    "#plt.xlabel('',fontsize=20)\n",
    "plt.ylabel('Votes Percentage Margin',fontsize=20)\n",
    "plt.title('1996 (Julana)',fontsize=20)\n",
    "plt.tick_params(labelsize=15)\n",
    "df2.plot(kind='bar')\n",
    "x = np.arange(6)\n",
    "plt.xticks(x, ('1','2','3','4','5','6'))\n",
    "plt.show()"
   ]
  },
  {
   "cell_type": "code",
   "execution_count": null,
   "metadata": {},
   "outputs": [],
   "source": []
  }
 ],
 "metadata": {
  "kernelspec": {
   "display_name": "Python 2",
   "language": "python",
   "name": "python2"
  },
  "language_info": {
   "codemirror_mode": {
    "name": "ipython",
    "version": 2
   },
   "file_extension": ".py",
   "mimetype": "text/x-python",
   "name": "python",
   "nbconvert_exporter": "python",
   "pygments_lexer": "ipython2",
   "version": "2.7.12"
  }
 },
 "nbformat": 4,
 "nbformat_minor": 2
}
