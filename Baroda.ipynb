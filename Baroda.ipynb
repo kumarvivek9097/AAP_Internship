{
 "cells": [
  {
   "cell_type": "code",
   "execution_count": null,
   "metadata": {},
   "outputs": [],
   "source": [
    "import pandas as pd\n",
    "import numpy as np\n",
    "import matplotlib.pyplot as plt"
   ]
  },
  {
   "cell_type": "code",
   "execution_count": null,
   "metadata": {},
   "outputs": [],
   "source": [
    "data=pd.read_csv('/home/vivek/Documents/Internship/AAP_Data_Analytics/Task 5/BARODA - Sheet1.csv')\n",
    "data.drop(['TOTAL VOTES POLLED'],axis=1,inplace=True)\n",
    "data.head()"
   ]
  },
  {
   "cell_type": "code",
   "execution_count": null,
   "metadata": {},
   "outputs": [],
   "source": [
    "df=data.loc[(data['YEAR']==2014)]\n",
    "df1=df.sort_values(by=['% VOTES'], ascending=False)\n",
    "df2=df1[['% VOTES']]\n",
    "df2 = df2.reset_index(drop=True)\n",
    "for i in range(0,15):\n",
    "    df3=df2.iloc[i]-df2.iloc[i+1]\n",
    "    print df3"
   ]
  },
  {
   "cell_type": "code",
   "execution_count": null,
   "metadata": {},
   "outputs": [],
   "source": [
    "#dff=data.groupby(['YEAR'])\n",
    "#dff.plot(kind='bar')\n",
    "#data.sort_values(['% VOTES','YEAR'],ascending=[0,1]).head()"
   ]
  },
  {
   "cell_type": "code",
   "execution_count": null,
   "metadata": {},
   "outputs": [],
   "source": [
    "df=data.loc[(data['YEAR']==2014)]\n",
    "df1=df.sort_values(by=['% VOTES'], ascending=False).head(6)\n",
    "x=df1['PARTY']\n",
    "y=df1['% VOTES']\n",
    "plt.figure(figsize=(20,10))\n",
    "plt.grid(True, zorder=5)\n",
    "plt.xlabel('Party',fontsize=20)\n",
    "plt.ylabel('Votes Percentage',fontsize=20)\n",
    "plt.title('2014 (Baroda)',fontsize=20)\n",
    "plt.tick_params(labelsize=15)\n",
    "plt.bar(x,y)"
   ]
  },
  {
   "cell_type": "code",
   "execution_count": null,
   "metadata": {},
   "outputs": [],
   "source": [
    "print(x)\n",
    "print(y)\n",
    "print(100-y.sum())"
   ]
  },
  {
   "cell_type": "code",
   "execution_count": null,
   "metadata": {},
   "outputs": [],
   "source": [
    "#figure = plt.figure()\n",
    "labels=['INC','INLD','BJP','IND','BSP','HJCPV','OTHERS']\n",
    "size=[41.926303,37.625808,7.217000,6.243725,2.700774,0.934277,3.3521129100000024]\n",
    "plt.figure(figsize=(20,10))\n",
    "figure,ax1 = plt.subplots()\n",
    "colors = ['green','blue','orange','violet','grey','red','pink']\n",
    "result=ax1.pie(size,labels=labels, autopct='%1.1f%%',\n",
    "        shadow=True, startangle=90,colors=colors)\n",
    "ax1.axis('equal')  # Equal aspect ratio ensures that pie is drawn as a circle.\n",
    "fig = plt.gcf()\n",
    "fig.set_size_inches(10,10)\n",
    "plt.legend(result[0], size,  bbox_to_anchor=(0.00, 1))\n",
    "plt.title('2014 (Baroda)',fontsize=20)\n",
    "figure.subplots_adjust(top=0.95)\n",
    "plt.show()"
   ]
  },
  {
   "cell_type": "code",
   "execution_count": null,
   "metadata": {},
   "outputs": [],
   "source": [
    "df=data.loc[(data['YEAR']==2009)]\n",
    "df2=df.sort_values(by=['% VOTES'], ascending=False).head(6)\n",
    "x1=df2['PARTY']\n",
    "y1=df2['% VOTES']\n",
    "plt.figure(figsize=(20,10))\n",
    "plt.grid(True, zorder=5)\n",
    "plt.xlabel('Party',fontsize=20)\n",
    "plt.ylabel('Votes Percentage',fontsize=20)\n",
    "plt.title('2009 (Baroda)',fontsize=20)\n",
    "plt.tick_params(labelsize=15)\n",
    "plt.bar(x1,y1)"
   ]
  },
  {
   "cell_type": "code",
   "execution_count": null,
   "metadata": {},
   "outputs": [],
   "source": [
    "print(x1)\n",
    "print(y1)\n",
    "print(100-y1.sum())"
   ]
  },
  {
   "cell_type": "code",
   "execution_count": null,
   "metadata": {},
   "outputs": [],
   "source": [
    "labels=['INC','INLD','BSP','BSP','IND','HJD','OTHERS']\n",
    "size=[59.366685,32.607594,2.605904, 1.245935,0.712717, 0.697935,2.763230134699981]\n",
    "plt.figure(figsize=(20,10))\n",
    "figure,ax1 = plt.subplots()\n",
    "colors = ['green','blue','orange','violet','grey','red','pink']\n",
    "result=ax1.pie(size,labels=labels, autopct='%1.1f%%',\n",
    "        shadow=True, startangle=90,colors=colors)\n",
    "ax1.axis('equal')  # Equal aspect ratio ensures that pie is drawn as a circle.\n",
    "fig = plt.gcf()\n",
    "fig.set_size_inches(10,10)\n",
    "plt.legend(result[0], size,  bbox_to_anchor=(0.00, 1))\n",
    "plt.title('2009 (Baroda)',fontsize=20)\n",
    "figure.subplots_adjust(top=0.95)\n",
    "plt.show()"
   ]
  },
  {
   "cell_type": "code",
   "execution_count": null,
   "metadata": {},
   "outputs": [],
   "source": [
    "df=data.loc[(data['YEAR']==2005)]\n",
    "df3=df.sort_values(by=['% VOTES'], ascending=False).head(6)\n",
    "x2=df3['PARTY']\n",
    "y2=df3['% VOTES']\n",
    "plt.figure(figsize=(20,10))\n",
    "plt.grid(True, zorder=5)\n",
    "plt.xlabel('Party',fontsize=20)\n",
    "plt.ylabel('Votes Percentage',fontsize=20)\n",
    "plt.title('2005 (Baroda)',fontsize=20)\n",
    "plt.tick_params(labelsize=15)\n",
    "plt.bar(x2,y2)"
   ]
  },
  {
   "cell_type": "code",
   "execution_count": null,
   "metadata": {},
   "outputs": [],
   "source": [
    "print(x2)\n",
    "print(y2)\n",
    "print(100-y2.sum())"
   ]
  },
  {
   "cell_type": "code",
   "execution_count": null,
   "metadata": {},
   "outputs": [],
   "source": [
    "labels=['INLD','INC','BSP','IND','ES','BSP','OTHERS']\n",
    "size=[34.878442,30.619275,16.620912,13.668400,2.007497,1.205026,1.0004487529999864]\n",
    "plt.figure(figsize=(20,10))\n",
    "figure,ax1 = plt.subplots()\n",
    "colors = ['blue','green','grey','violet','black','red','pink']\n",
    "result=ax1.pie(size,labels=labels, autopct='%1.1f%%',\n",
    "        shadow=True, startangle=90,colors=colors)\n",
    "ax1.axis('equal')  # Equal aspect ratio ensures that pie is drawn as a circle.\n",
    "fig = plt.gcf()\n",
    "fig.set_size_inches(10,10)\n",
    "plt.legend(result[0], size,  bbox_to_anchor=(0.00, 1))\n",
    "plt.title('2005 (Baroda)',fontsize=20)\n",
    "figure.subplots_adjust(top=0.95)\n",
    "plt.show()"
   ]
  },
  {
   "cell_type": "code",
   "execution_count": null,
   "metadata": {},
   "outputs": [],
   "source": [
    "df=data.loc[(data['YEAR']==2000)]\n",
    "df1=df.sort_values(by=['% VOTES'], ascending=False).head(8)\n",
    "x=df1['PARTY']\n",
    "y=df1['% VOTES']\n",
    "plt.figure(figsize=(20,10))\n",
    "plt.grid(True, zorder=5)\n",
    "plt.xlabel('Party',fontsize=20)\n",
    "plt.ylabel('Votes Percentage',fontsize=20)\n",
    "plt.title('2000 (Baroda)',fontsize=20)\n",
    "plt.tick_params(labelsize=15)\n",
    "plt.bar(x,y)"
   ]
  },
  {
   "cell_type": "code",
   "execution_count": null,
   "metadata": {},
   "outputs": [],
   "source": [
    "df=data.loc[(data['YEAR']==1996)]\n",
    "df1=df.sort_values(by=['% VOTES'], ascending=False).head(8)\n",
    "x=df1['PARTY']\n",
    "y=df1['% VOTES']\n",
    "plt.figure(figsize=(20,10))\n",
    "plt.grid(True, zorder=5)\n",
    "plt.xlabel('Party',fontsize=20)\n",
    "plt.ylabel('Votes Percentage',fontsize=20)\n",
    "plt.title('1996 (Baroda)',fontsize=20)\n",
    "plt.tick_params(labelsize=15)\n",
    "plt.bar(x,y)"
   ]
  },
  {
   "cell_type": "code",
   "execution_count": null,
   "metadata": {},
   "outputs": [],
   "source": [
    "df=data.loc[(data['PARTY']=='BJP')]\n",
    "X1=df['YEAR']\n",
    "Y1=df['% VOTES']\n",
    "plt.figure(figsize=(20,10))\n",
    "plt.grid(True, zorder=5)\n",
    "plt.xlabel('Year',fontsize=20)\n",
    "plt.ylabel('Votes Percentage',fontsize=20)\n",
    "plt.title('BJP (Baroda)',fontsize=20)\n",
    "plt.bar(X1,Y1)"
   ]
  },
  {
   "cell_type": "code",
   "execution_count": null,
   "metadata": {},
   "outputs": [],
   "source": [
    "df1=data.loc[(data['PARTY']=='INC')]\n",
    "X2=df1['YEAR']\n",
    "Y2=df1['% VOTES']\n",
    "plt.figure(figsize=(20,10))\n",
    "plt.grid(True, zorder=5)\n",
    "plt.xlabel('Year',fontsize=20)\n",
    "plt.ylabel('Votes Percentage',fontsize=20)\n",
    "plt.title('INC (Baroda)',fontsize=20)\n",
    "plt.bar(X2,Y2)"
   ]
  },
  {
   "cell_type": "code",
   "execution_count": null,
   "metadata": {},
   "outputs": [],
   "source": [
    "df2=data.loc[(data['PARTY']=='INLD')]\n",
    "X3=df2['YEAR']\n",
    "Y3=df2['% VOTES']\n",
    "plt.figure(figsize=(20,10))\n",
    "plt.grid(True, zorder=5)\n",
    "plt.xlabel('Year',fontsize=20)\n",
    "plt.ylabel('Votes Percentage',fontsize=20)\n",
    "plt.title('INLD (Baroda)',fontsize=20)\n",
    "plt.bar(X3,Y3)"
   ]
  },
  {
   "cell_type": "code",
   "execution_count": null,
   "metadata": {},
   "outputs": [],
   "source": [
    "df3=data.loc[(data['PARTY']=='BSP')]\n",
    "X4=df3['YEAR']\n",
    "Y4=df3['% VOTES']\n",
    "plt.figure(figsize=(20,10))\n",
    "plt.grid(True, zorder=5)\n",
    "plt.xlabel('Year',fontsize=20)\n",
    "plt.ylabel('Votes Percentage',fontsize=20)\n",
    "plt.title('BSP (Baroda)',fontsize=20)\n",
    "plt.bar(X4,Y4)"
   ]
  },
  {
   "cell_type": "code",
   "execution_count": null,
   "metadata": {},
   "outputs": [],
   "source": [
    "df4=data.loc[(data['PARTY']=='IND')]\n",
    "X5=df4['YEAR']\n",
    "Y5=df4['% VOTES']\n",
    "plt.figure(figsize=(20,10))\n",
    "plt.grid(True, zorder=5)\n",
    "plt.xlabel('Year',fontsize=20)\n",
    "plt.ylabel('Votes Percentage',fontsize=20)\n",
    "plt.title('IND (Baroda)',fontsize=20)\n",
    "plt.bar(X5,Y5)"
   ]
  },
  {
   "cell_type": "code",
   "execution_count": null,
   "metadata": {},
   "outputs": [],
   "source": [
    "df5=data.loc[(data['PARTY']=='SAP')]\n",
    "X6=df5['YEAR']\n",
    "Y6=df5['% VOTES']\n",
    "plt.figure(figsize=(20,10))\n",
    "plt.grid(True, zorder=5)\n",
    "plt.xlabel('Year',fontsize=20)\n",
    "plt.ylabel('Votes Percentage',fontsize=20)\n",
    "plt.title('SAP (Baroda)',fontsize=20)\n",
    "plt.bar(X6,Y6)"
   ]
  },
  {
   "cell_type": "code",
   "execution_count": null,
   "metadata": {},
   "outputs": [],
   "source": [
    "df6=data.loc[(data['PARTY']=='HVP')]\n",
    "X7=df6['YEAR']\n",
    "Y7=df6['% VOTES']\n",
    "plt.figure(figsize=(20,10))\n",
    "plt.grid(True, zorder=5)\n",
    "plt.xlabel('Year',fontsize=20)\n",
    "plt.ylabel('Votes Percentage',fontsize=20)\n",
    "plt.title('HVP (Baroda)',fontsize=20)\n",
    "plt.bar(X7,Y7)"
   ]
  },
  {
   "cell_type": "code",
   "execution_count": null,
   "metadata": {},
   "outputs": [],
   "source": [
    "df4=data.loc[(data['YEAR']==2014)]\n",
    "df5=data.loc(data['YEAR']==2009)\n",
    "X=df4['PARTY']\n",
    "Y=df4['% VOTES']\n",
    "plt.bar(X,Y)\n",
    "plt.xlabel('Year')\n",
    "plt.ylabel('Votes Percentage')\n",
    "plt.title('IND (Baroda)')"
   ]
  },
  {
   "cell_type": "code",
   "execution_count": null,
   "metadata": {},
   "outputs": [],
   "source": [
    "plt.figure(figsize=(20,10))\n",
    "ax = plt.subplot(111)\n",
    "ax.bar(X1-0.4, Y1,width=0.2,color='b',align='center')\n",
    "ax.bar(X2-0.2, Y2,width=0.2,color='g',align='center')\n",
    "ax.bar(X3, Y3,width=0.2,color='r',align='center')\n",
    "ax.bar(X4+0.2, Y4,width=0.2,color='black',align='center')\n",
    "ax.bar(X5+0.4, Y5,width=0.2,color='yellow',align='center')\n",
    "ax.bar(X6+0.6, Y6,width=0.2,color='PINK',align='center')\n",
    "ax.bar(X7+0.8, Y7,width=0.2,color='m',align='center')\n",
    "#ax.xaxis_date()\n",
    "ax.legend([\"BJP\", \"INC\",\"INLD\",\"BSP\",\"IND\",\"SAP\",\"HVP\"],fontsize=20)\n",
    "plt.xlabel('Year',fontsize=20)\n",
    "plt.ylabel('Votes Percentage',fontsize=20)\n",
    "plt.show()"
   ]
  },
  {
   "cell_type": "code",
   "execution_count": null,
   "metadata": {},
   "outputs": [],
   "source": [
    "dff=data.loc[(data['PARTY']=='BJP')]\n",
    "print(dff.max())\n",
    "print(dff.min())"
   ]
  },
  {
   "cell_type": "code",
   "execution_count": null,
   "metadata": {},
   "outputs": [],
   "source": [
    "dff=data.loc[(data['PARTY']=='INC')]\n",
    "print(dff.max())\n",
    "print(dff.min())"
   ]
  },
  {
   "cell_type": "code",
   "execution_count": null,
   "metadata": {},
   "outputs": [],
   "source": [
    "dff=data.loc[(data['PARTY']=='INLD')]\n",
    "print(dff.max())\n",
    "print(dff.min())"
   ]
  },
  {
   "cell_type": "code",
   "execution_count": null,
   "metadata": {},
   "outputs": [],
   "source": [
    "dff=data.loc[(data['PARTY']=='BSP')]\n",
    "print(dff.max())\n",
    "print(dff.min())"
   ]
  },
  {
   "cell_type": "code",
   "execution_count": null,
   "metadata": {},
   "outputs": [],
   "source": [
    "dff=data.loc[(data['PARTY']=='SAP')]\n",
    "print(dff.max())\n",
    "print(dff.min())"
   ]
  },
  {
   "cell_type": "code",
   "execution_count": null,
   "metadata": {},
   "outputs": [],
   "source": [
    "dff=data.loc[(data['PARTY']=='HVP')]\n",
    "print(dff.max())\n",
    "print(dff.min())"
   ]
  },
  {
   "cell_type": "code",
   "execution_count": null,
   "metadata": {},
   "outputs": [],
   "source": []
  }
 ],
 "metadata": {
  "kernelspec": {
   "display_name": "Python 2",
   "language": "python",
   "name": "python2"
  },
  "language_info": {
   "codemirror_mode": {
    "name": "ipython",
    "version": 2
   },
   "file_extension": ".py",
   "mimetype": "text/x-python",
   "name": "python",
   "nbconvert_exporter": "python",
   "pygments_lexer": "ipython2",
   "version": "2.7.12"
  }
 },
 "nbformat": 4,
 "nbformat_minor": 2
}
